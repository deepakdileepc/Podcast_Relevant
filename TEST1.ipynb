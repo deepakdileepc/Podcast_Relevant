{
 "cells": [
  {
   "cell_type": "code",
   "execution_count": null,
   "metadata": {
    "colab": {
     "base_uri": "https://localhost:8080/"
    },
    "id": "DOc3qsknZfFj",
    "outputId": "fab581f2-42f5-401b-fb06-68f26acfd3eb"
   },
   "outputs": [
    {
     "name": "stdout",
     "output_type": "stream",
     "text": [
      "Collecting openai==0.28\n",
      "  Downloading openai-0.28.0-py3-none-any.whl.metadata (13 kB)\n",
      "Collecting python-dotenv\n",
      "  Downloading python_dotenv-1.0.1-py3-none-any.whl.metadata (23 kB)\n",
      "Requirement already satisfied: requests>=2.20 in /usr/local/lib/python3.10/dist-packages (from openai==0.28) (2.32.3)\n",
      "Requirement already satisfied: tqdm in /usr/local/lib/python3.10/dist-packages (from openai==0.28) (4.66.6)\n",
      "Requirement already satisfied: aiohttp in /usr/local/lib/python3.10/dist-packages (from openai==0.28) (3.10.10)\n",
      "Requirement already satisfied: charset-normalizer<4,>=2 in /usr/local/lib/python3.10/dist-packages (from requests>=2.20->openai==0.28) (3.4.0)\n",
      "Requirement already satisfied: idna<4,>=2.5 in /usr/local/lib/python3.10/dist-packages (from requests>=2.20->openai==0.28) (3.10)\n",
      "Requirement already satisfied: urllib3<3,>=1.21.1 in /usr/local/lib/python3.10/dist-packages (from requests>=2.20->openai==0.28) (2.2.3)\n",
      "Requirement already satisfied: certifi>=2017.4.17 in /usr/local/lib/python3.10/dist-packages (from requests>=2.20->openai==0.28) (2024.8.30)\n",
      "Requirement already satisfied: aiohappyeyeballs>=2.3.0 in /usr/local/lib/python3.10/dist-packages (from aiohttp->openai==0.28) (2.4.3)\n",
      "Requirement already satisfied: aiosignal>=1.1.2 in /usr/local/lib/python3.10/dist-packages (from aiohttp->openai==0.28) (1.3.1)\n",
      "Requirement already satisfied: attrs>=17.3.0 in /usr/local/lib/python3.10/dist-packages (from aiohttp->openai==0.28) (24.2.0)\n",
      "Requirement already satisfied: frozenlist>=1.1.1 in /usr/local/lib/python3.10/dist-packages (from aiohttp->openai==0.28) (1.5.0)\n",
      "Requirement already satisfied: multidict<7.0,>=4.5 in /usr/local/lib/python3.10/dist-packages (from aiohttp->openai==0.28) (6.1.0)\n",
      "Requirement already satisfied: yarl<2.0,>=1.12.0 in /usr/local/lib/python3.10/dist-packages (from aiohttp->openai==0.28) (1.17.0)\n",
      "Requirement already satisfied: async-timeout<5.0,>=4.0 in /usr/local/lib/python3.10/dist-packages (from aiohttp->openai==0.28) (4.0.3)\n",
      "Requirement already satisfied: typing-extensions>=4.1.0 in /usr/local/lib/python3.10/dist-packages (from multidict<7.0,>=4.5->aiohttp->openai==0.28) (4.12.2)\n",
      "Requirement already satisfied: propcache>=0.2.0 in /usr/local/lib/python3.10/dist-packages (from yarl<2.0,>=1.12.0->aiohttp->openai==0.28) (0.2.0)\n",
      "Downloading openai-0.28.0-py3-none-any.whl (76 kB)\n",
      "\u001b[2K   \u001b[90m━━━━━━━━━━━━━━━━━━━━━━━━━━━━━━━━━━━━━━━━\u001b[0m \u001b[32m76.5/76.5 kB\u001b[0m \u001b[31m5.9 MB/s\u001b[0m eta \u001b[36m0:00:00\u001b[0m\n",
      "\u001b[?25hDownloading python_dotenv-1.0.1-py3-none-any.whl (19 kB)\n",
      "Installing collected packages: python-dotenv, openai\n",
      "  Attempting uninstall: openai\n",
      "    Found existing installation: openai 1.52.2\n",
      "    Uninstalling openai-1.52.2:\n",
      "      Successfully uninstalled openai-1.52.2\n",
      "Successfully installed openai-0.28.0 python-dotenv-1.0.1\n"
     ]
    }
   ],
   "source": [
    "!pip install openai==0.28 python-dotenv"
   ]
  },
  {
   "cell_type": "code",
   "execution_count": null,
   "metadata": {
    "id": "vUFTP_sWat7j"
   },
   "outputs": [],
   "source": [
    "import os\n",
    "import openai\n",
    "from dotenv import load_dotenv\n",
    "load_dotenv()\n",
    "# Set up your OpenAI API key\n",
    "os.environ[\"OPENAI_API_KEY\"] = \"\"\n",
    "\n",
    "openai.api_key = os.getenv(\"OPENAI_API_KEY\")"
   ]
  },
  {
   "cell_type": "code",
   "execution_count": null,
   "metadata": {
    "colab": {
     "base_uri": "https://localhost:8080/"
    },
    "id": "IL4VhD11a2mK",
    "outputId": "018640ae-9df4-488f-ae0a-e836253d5bcf"
   },
   "outputs": [
    {
     "name": "stdout",
     "output_type": "stream",
     "text": [
      "Full Response: \n",
      "CLUES:\n",
      "1. \"like most rabbits\" - suggests a comparison to other rabbits\n",
      "2. \"lack substance\" - implies a lack of depth or quality\n",
      "\n",
      "REASONING PROCESS:\n",
      "This sentence compares something to \"most rabbits\", which can be interpreted as being common or average. The following phrase, \"lack substance\", suggests that whatever is being compared lacks something important or significant. This combination of clues leads to the conclusion that the overall sentiment of the sentence is negative.\n",
      "\n",
      "OVERALL SENTIMENT:\n",
      "Negative\n",
      "Sentiment Value: 0\n"
     ]
    }
   ],
   "source": [
    "def classify_text(input_text):\n",
    "    prompt = f\"\"\"\n",
    "    This is an overall sentiment classifier for movie reviews.\n",
    "First, present CLUES (i.e., keywords, phrases, contextual information, semantic relations, semantic meaning,\n",
    "tones, references) that support the sentiment determination of input.\n",
    "Second, deduce a diagnostic REASONING process from premises (i.e., clues, input) that supports the sentiment\n",
    "determination (Limit the number of words to 130).\n",
    "Third, determine the overall SENTIMENT of INPUT as Positive or Negative considering CLUES, the REASONING\n",
    "process, and the INPUT.\n",
    "INPUT: {input_text}\n",
    "    \"\"\"\n",
    "\n",
    "    response = openai.Completion.create(\n",
    "        engine=\"gpt-3.5-turbo-instruct\",\n",
    "        prompt=prompt,\n",
    "        max_tokens=150,\n",
    "        temperature=0.7\n",
    "    )\n",
    "\n",
    "    try:\n",
    "        response_text = response.choices[0].text\n",
    "        sentiment = response_text.lower().split(\"SENTIMENT:\")[-1].strip()\n",
    "        if \"neg\" in sentiment:\n",
    "            sentiment = 0\n",
    "        elif \"pos\" in sentiment:\n",
    "            sentiment = 1\n",
    "        else:\n",
    "            print(response_text)\n",
    "            sentiment = None\n",
    "    except Exception as e:\n",
    "        print(f\"Error: {e}\")\n",
    "        response_text = None\n",
    "        sentiment = None\n",
    "\n",
    "    return response_text, sentiment\n",
    "\n",
    "# Example usage\n",
    "text_input = \"but like most rabbits , it seems to lack substance \"\n",
    "full_response, sentiment_value = classify_text(text_input)\n",
    "print(\"Full Response:\", full_response)\n",
    "print(\"Sentiment Value:\", sentiment_value)\n"
   ]
  }
 ],
 "metadata": {
  "colab": {
   "provenance": []
  },
  "kernelspec": {
   "display_name": "Python 3",
   "name": "python3"
  },
  "language_info": {
   "name": "python"
  }
 },
 "nbformat": 4,
 "nbformat_minor": 0
}
